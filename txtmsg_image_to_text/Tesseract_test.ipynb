{
 "cells": [
  {
   "cell_type": "code",
   "execution_count": 6,
   "id": "f0a51a01-0ebe-4e66-b02e-47ad98675056",
   "metadata": {},
   "outputs": [
    {
     "name": "stdout",
     "output_type": "stream",
     "text": [
      "Collecting opencv-python\n",
      "  Downloading opencv_python-4.9.0.80-cp37-abi3-win_amd64.whl.metadata (20 kB)\n",
      "Requirement already satisfied: numpy>=1.21.2 in c:\\users\\sooni\\appdata\\local\\programs\\python\\python312\\lib\\site-packages (from opencv-python) (1.26.3)\n",
      "Downloading opencv_python-4.9.0.80-cp37-abi3-win_amd64.whl (38.6 MB)\n",
      "   ---------------------------------------- 0.0/38.6 MB ? eta -:--:--\n",
      "   - -------------------------------------- 1.1/38.6 MB 23.5 MB/s eta 0:00:02\n",
      "   -- ------------------------------------- 2.9/38.6 MB 30.5 MB/s eta 0:00:02\n",
      "   ----- ---------------------------------- 5.5/38.6 MB 39.1 MB/s eta 0:00:01\n",
      "   -------- ------------------------------- 8.3/38.6 MB 44.2 MB/s eta 0:00:01\n",
      "   ----------- ---------------------------- 11.1/38.6 MB 50.1 MB/s eta 0:00:01\n",
      "   -------------- ------------------------- 13.8/38.6 MB 54.7 MB/s eta 0:00:01\n",
      "   ----------------- ---------------------- 16.7/38.6 MB 59.5 MB/s eta 0:00:01\n",
      "   -------------------- ------------------- 19.5/38.6 MB 59.5 MB/s eta 0:00:01\n",
      "   ----------------------- ---------------- 22.3/38.6 MB 59.5 MB/s eta 0:00:01\n",
      "   ------------------------- -------------- 25.0/38.6 MB 59.5 MB/s eta 0:00:01\n",
      "   ---------------------------- ----------- 27.9/38.6 MB 59.5 MB/s eta 0:00:01\n",
      "   ------------------------------- -------- 30.6/38.6 MB 59.5 MB/s eta 0:00:01\n",
      "   ---------------------------------- ----- 33.2/38.6 MB 54.4 MB/s eta 0:00:01\n",
      "   ------------------------------------ --- 35.6/38.6 MB 59.5 MB/s eta 0:00:01\n",
      "   ---------------------------------------  37.7/38.6 MB 54.4 MB/s eta 0:00:01\n",
      "   ---------------------------------------  38.6/38.6 MB 54.7 MB/s eta 0:00:01\n",
      "   ---------------------------------------- 38.6/38.6 MB 40.9 MB/s eta 0:00:00\n",
      "Installing collected packages: opencv-python\n",
      "Successfully installed opencv-python-4.9.0.80\n"
     ]
    },
    {
     "name": "stderr",
     "output_type": "stream",
     "text": [
      "\n",
      "[notice] A new release of pip is available: 23.3.2 -> 24.0\n",
      "[notice] To update, run: python.exe -m pip install --upgrade pip\n"
     ]
    }
   ],
   "source": [
    "# !pip install pytesseract\n",
    "!pip install opencv-python"
   ]
  },
  {
   "cell_type": "code",
   "execution_count": 13,
   "id": "8caf86fc-ae00-47c3-95bc-21eeb8944cd3",
   "metadata": {},
   "outputs": [
    {
     "name": "stdout",
     "output_type": "stream",
     "text": [
      "[00통운] 고객님 택배 배송 불가\n",
      "주소 배송불가 즉시 주소 변경\n",
      "\n",
      "부탁드립니다.\n",
      "\n",
      "[dsv.munjsiks.top/gooim ]\n",
      "\n"
     ]
    }
   ],
   "source": [
    "import pytesseract\n",
    "import cv2\n",
    "\n",
    "pytesseract.pytesseract.tesseract_cmd = 'C:\\\\ProgramFiles\\\\Tesseract-OCR\\\\tesseract.exe'\n",
    "\n",
    "# 이미지 파일 로드\n",
    "image = cv2.imread('./input/test1.png')\n",
    "\n",
    "# # 이미지 전처리를 위해 흑백으로 변환\n",
    "# gray = cv2.cvtColor(image, cv2.COLOR_BGR2GRAY)\n",
    "\n",
    "# print(pytesseract.image_to_string('./input/test.png', lang='kor+eng', config='-c preserce_interword_spaces=1 --psm 4'))\n",
    "\n",
    "# 이미지에서 텍스트 추출\n",
    "text = pytesseract.image_to_string(image, lang='kor+eng')\n",
    "\n",
    "print(text)"
   ]
  },
  {
   "cell_type": "code",
   "execution_count": null,
   "id": "2e713fc0-1910-4fc9-9b03-6f48239111da",
   "metadata": {},
   "outputs": [],
   "source": []
  }
 ],
 "metadata": {
  "kernelspec": {
   "display_name": "Python 3 (ipykernel)",
   "language": "python",
   "name": "python3"
  },
  "language_info": {
   "codemirror_mode": {
    "name": "ipython",
    "version": 3
   },
   "file_extension": ".py",
   "mimetype": "text/x-python",
   "name": "python",
   "nbconvert_exporter": "python",
   "pygments_lexer": "ipython3",
   "version": "3.12.1"
  }
 },
 "nbformat": 4,
 "nbformat_minor": 5
}
